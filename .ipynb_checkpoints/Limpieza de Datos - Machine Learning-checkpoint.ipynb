{
 "cells": [
  {
   "cell_type": "markdown",
   "id": "e57b2b6e",
   "metadata": {},
   "source": [
    "link video: https://www.youtube.com/watch?v=1UhlTiTIMfE&ab_channel=JaviDataScience"
   ]
  },
  {
   "cell_type": "code",
   "execution_count": 1,
   "id": "56fd3931",
   "metadata": {},
   "outputs": [],
   "source": [
    "import numpy as np\n",
    "import pandas as pd\n",
    "\n",
    "from ast import literal_eval\n",
    "import re"
   ]
  },
  {
   "cell_type": "code",
   "execution_count": 2,
   "id": "227cb9c9",
   "metadata": {},
   "outputs": [],
   "source": [
    "# va a dar error, no ejecutar\n",
    "# df = pd.read_csv('inmuebles_info_NO_limpia.csv')"
   ]
  },
  {
   "cell_type": "code",
   "execution_count": 3,
   "id": "5fecc604",
   "metadata": {},
   "outputs": [],
   "source": [
    "df = pd.read_csv('inmuebles_info_NO_limpia.csv', encoding='utf-16', sep=';')"
   ]
  },
  {
   "cell_type": "code",
   "execution_count": 4,
   "id": "22ca6b0a",
   "metadata": {},
   "outputs": [
    {
     "data": {
      "text/html": [
       "<div>\n",
       "<style scoped>\n",
       "    .dataframe tbody tr th:only-of-type {\n",
       "        vertical-align: middle;\n",
       "    }\n",
       "\n",
       "    .dataframe tbody tr th {\n",
       "        vertical-align: top;\n",
       "    }\n",
       "\n",
       "    .dataframe thead th {\n",
       "        text-align: right;\n",
       "    }\n",
       "</style>\n",
       "<table border=\"1\" class=\"dataframe\">\n",
       "  <thead>\n",
       "    <tr style=\"text-align: right;\">\n",
       "      <th></th>\n",
       "      <th>titulo</th>\n",
       "      <th>precio</th>\n",
       "      <th>ubicacion</th>\n",
       "      <th>direccion</th>\n",
       "      <th>caracteristicas_basicas</th>\n",
       "      <th>caracteristicas_extras</th>\n",
       "    </tr>\n",
       "  </thead>\n",
       "  <tbody>\n",
       "    <tr>\n",
       "      <th>0</th>\n",
       "      <td>Casa o chalet independiente en venta en San Ma...</td>\n",
       "      <td>1290000</td>\n",
       "      <td>Zona suroeste</td>\n",
       "      <td>['San Martín de Valdeiglesias', 'Zona suroeste...</td>\n",
       "      <td>['Casa o chalet independiente', '2 plantas', '...</td>\n",
       "      <td>['Piscina', 'Jardín']</td>\n",
       "    </tr>\n",
       "    <tr>\n",
       "      <th>1</th>\n",
       "      <td>Casa o chalet independiente en venta en San Ma...</td>\n",
       "      <td>1290000</td>\n",
       "      <td>Zona suroeste</td>\n",
       "      <td>['San Martín de Valdeiglesias', 'Zona suroeste...</td>\n",
       "      <td>['Casa o chalet independiente', '2 plantas', '...</td>\n",
       "      <td>['Piscina', 'Jardín']</td>\n",
       "    </tr>\n",
       "    <tr>\n",
       "      <th>2</th>\n",
       "      <td>Casa o chalet independiente en venta en San Ma...</td>\n",
       "      <td>395000</td>\n",
       "      <td>Zona suroeste</td>\n",
       "      <td>['San Martín de Valdeiglesias', 'Zona suroeste...</td>\n",
       "      <td>['Casa o chalet independiente', '1 planta', '1...</td>\n",
       "      <td>['Piscina', 'Jardín']</td>\n",
       "    </tr>\n",
       "    <tr>\n",
       "      <th>3</th>\n",
       "      <td>Casa o chalet independiente en venta en calle ...</td>\n",
       "      <td>670000</td>\n",
       "      <td>San Martín de Valdeiglesias</td>\n",
       "      <td>['Calle Guadalupe', 'San Martín de Valdeiglesi...</td>\n",
       "      <td>['Casa o chalet independiente', '3 plantas', '...</td>\n",
       "      <td>['Consumo:', 'Emisiones:']</td>\n",
       "    </tr>\n",
       "    <tr>\n",
       "      <th>4</th>\n",
       "      <td>Estudio en venta en carretera Virgen de la Nue...</td>\n",
       "      <td>46000</td>\n",
       "      <td>San Martín de Valdeiglesias</td>\n",
       "      <td>['Carretera Virgen de la Nueva s/n', 'Urb. COS...</td>\n",
       "      <td>['42 m² construidos, 40 m² útiles', 'Sin habit...</td>\n",
       "      <td>['Zonas verdes']</td>\n",
       "    </tr>\n",
       "  </tbody>\n",
       "</table>\n",
       "</div>"
      ],
      "text/plain": [
       "                                              titulo   precio  \\\n",
       "0  Casa o chalet independiente en venta en San Ma...  1290000   \n",
       "1  Casa o chalet independiente en venta en San Ma...  1290000   \n",
       "2  Casa o chalet independiente en venta en San Ma...   395000   \n",
       "3  Casa o chalet independiente en venta en calle ...   670000   \n",
       "4  Estudio en venta en carretera Virgen de la Nue...    46000   \n",
       "\n",
       "                     ubicacion  \\\n",
       "0                Zona suroeste   \n",
       "1                Zona suroeste   \n",
       "2                Zona suroeste   \n",
       "3  San Martín de Valdeiglesias   \n",
       "4  San Martín de Valdeiglesias   \n",
       "\n",
       "                                           direccion  \\\n",
       "0  ['San Martín de Valdeiglesias', 'Zona suroeste...   \n",
       "1  ['San Martín de Valdeiglesias', 'Zona suroeste...   \n",
       "2  ['San Martín de Valdeiglesias', 'Zona suroeste...   \n",
       "3  ['Calle Guadalupe', 'San Martín de Valdeiglesi...   \n",
       "4  ['Carretera Virgen de la Nueva s/n', 'Urb. COS...   \n",
       "\n",
       "                             caracteristicas_basicas  \\\n",
       "0  ['Casa o chalet independiente', '2 plantas', '...   \n",
       "1  ['Casa o chalet independiente', '2 plantas', '...   \n",
       "2  ['Casa o chalet independiente', '1 planta', '1...   \n",
       "3  ['Casa o chalet independiente', '3 plantas', '...   \n",
       "4  ['42 m² construidos, 40 m² útiles', 'Sin habit...   \n",
       "\n",
       "       caracteristicas_extras  \n",
       "0       ['Piscina', 'Jardín']  \n",
       "1       ['Piscina', 'Jardín']  \n",
       "2       ['Piscina', 'Jardín']  \n",
       "3  ['Consumo:', 'Emisiones:']  \n",
       "4            ['Zonas verdes']  "
      ]
     },
     "execution_count": 4,
     "metadata": {},
     "output_type": "execute_result"
    }
   ],
   "source": [
    "df.head()"
   ]
  },
  {
   "cell_type": "code",
   "execution_count": 5,
   "id": "e1fc6bb9",
   "metadata": {},
   "outputs": [
    {
     "data": {
      "text/plain": [
       "\"['Casa o chalet independiente', '3 plantas', '884 m² construidos', '7 habitaciones', '9 baños', 'Parcela de 5.000 m²', 'Terraza y balcón', 'Plaza de garaje incluida en el precio', 'Segunda mano/buen estado', 'Calefacción individual: Gas natural']\""
      ]
     },
     "execution_count": 5,
     "metadata": {},
     "output_type": "execute_result"
    }
   ],
   "source": [
    "df['caracteristicas_basicas'][15]"
   ]
  },
  {
   "cell_type": "code",
   "execution_count": 6,
   "id": "0765febf",
   "metadata": {},
   "outputs": [],
   "source": [
    "# esto lo convierte en lista, ya que antes era un string\n",
    "df= pd.read_csv('inmuebles_info_NO_limpia.csv', encoding='utf-16', sep=';', converters={'caracteristicas_basicas': literal_eval, 'caracteristicas_extras': literal_eval})"
   ]
  },
  {
   "cell_type": "code",
   "execution_count": 7,
   "id": "857f629f",
   "metadata": {},
   "outputs": [
    {
     "data": {
      "text/html": [
       "<div>\n",
       "<style scoped>\n",
       "    .dataframe tbody tr th:only-of-type {\n",
       "        vertical-align: middle;\n",
       "    }\n",
       "\n",
       "    .dataframe tbody tr th {\n",
       "        vertical-align: top;\n",
       "    }\n",
       "\n",
       "    .dataframe thead th {\n",
       "        text-align: right;\n",
       "    }\n",
       "</style>\n",
       "<table border=\"1\" class=\"dataframe\">\n",
       "  <thead>\n",
       "    <tr style=\"text-align: right;\">\n",
       "      <th></th>\n",
       "      <th>titulo</th>\n",
       "      <th>precio</th>\n",
       "      <th>ubicacion</th>\n",
       "      <th>direccion</th>\n",
       "      <th>caracteristicas_basicas</th>\n",
       "      <th>caracteristicas_extras</th>\n",
       "    </tr>\n",
       "  </thead>\n",
       "  <tbody>\n",
       "    <tr>\n",
       "      <th>0</th>\n",
       "      <td>Casa o chalet independiente en venta en San Ma...</td>\n",
       "      <td>1290000</td>\n",
       "      <td>Zona suroeste</td>\n",
       "      <td>['San Martín de Valdeiglesias', 'Zona suroeste...</td>\n",
       "      <td>[Casa o chalet independiente, 2 plantas, 435 m...</td>\n",
       "      <td>[Piscina, Jardín]</td>\n",
       "    </tr>\n",
       "    <tr>\n",
       "      <th>1</th>\n",
       "      <td>Casa o chalet independiente en venta en San Ma...</td>\n",
       "      <td>1290000</td>\n",
       "      <td>Zona suroeste</td>\n",
       "      <td>['San Martín de Valdeiglesias', 'Zona suroeste...</td>\n",
       "      <td>[Casa o chalet independiente, 2 plantas, 435 m...</td>\n",
       "      <td>[Piscina, Jardín]</td>\n",
       "    </tr>\n",
       "    <tr>\n",
       "      <th>2</th>\n",
       "      <td>Casa o chalet independiente en venta en San Ma...</td>\n",
       "      <td>395000</td>\n",
       "      <td>Zona suroeste</td>\n",
       "      <td>['San Martín de Valdeiglesias', 'Zona suroeste...</td>\n",
       "      <td>[Casa o chalet independiente, 1 planta, 175 m²...</td>\n",
       "      <td>[Piscina, Jardín]</td>\n",
       "    </tr>\n",
       "    <tr>\n",
       "      <th>3</th>\n",
       "      <td>Casa o chalet independiente en venta en calle ...</td>\n",
       "      <td>670000</td>\n",
       "      <td>San Martín de Valdeiglesias</td>\n",
       "      <td>['Calle Guadalupe', 'San Martín de Valdeiglesi...</td>\n",
       "      <td>[Casa o chalet independiente, 3 plantas, 180 m...</td>\n",
       "      <td>[Consumo:, Emisiones:]</td>\n",
       "    </tr>\n",
       "    <tr>\n",
       "      <th>4</th>\n",
       "      <td>Estudio en venta en carretera Virgen de la Nue...</td>\n",
       "      <td>46000</td>\n",
       "      <td>San Martín de Valdeiglesias</td>\n",
       "      <td>['Carretera Virgen de la Nueva s/n', 'Urb. COS...</td>\n",
       "      <td>[42 m² construidos, 40 m² útiles, Sin habitaci...</td>\n",
       "      <td>[Zonas verdes]</td>\n",
       "    </tr>\n",
       "  </tbody>\n",
       "</table>\n",
       "</div>"
      ],
      "text/plain": [
       "                                              titulo   precio  \\\n",
       "0  Casa o chalet independiente en venta en San Ma...  1290000   \n",
       "1  Casa o chalet independiente en venta en San Ma...  1290000   \n",
       "2  Casa o chalet independiente en venta en San Ma...   395000   \n",
       "3  Casa o chalet independiente en venta en calle ...   670000   \n",
       "4  Estudio en venta en carretera Virgen de la Nue...    46000   \n",
       "\n",
       "                     ubicacion  \\\n",
       "0                Zona suroeste   \n",
       "1                Zona suroeste   \n",
       "2                Zona suroeste   \n",
       "3  San Martín de Valdeiglesias   \n",
       "4  San Martín de Valdeiglesias   \n",
       "\n",
       "                                           direccion  \\\n",
       "0  ['San Martín de Valdeiglesias', 'Zona suroeste...   \n",
       "1  ['San Martín de Valdeiglesias', 'Zona suroeste...   \n",
       "2  ['San Martín de Valdeiglesias', 'Zona suroeste...   \n",
       "3  ['Calle Guadalupe', 'San Martín de Valdeiglesi...   \n",
       "4  ['Carretera Virgen de la Nueva s/n', 'Urb. COS...   \n",
       "\n",
       "                             caracteristicas_basicas  caracteristicas_extras  \n",
       "0  [Casa o chalet independiente, 2 plantas, 435 m...       [Piscina, Jardín]  \n",
       "1  [Casa o chalet independiente, 2 plantas, 435 m...       [Piscina, Jardín]  \n",
       "2  [Casa o chalet independiente, 1 planta, 175 m²...       [Piscina, Jardín]  \n",
       "3  [Casa o chalet independiente, 3 plantas, 180 m...  [Consumo:, Emisiones:]  \n",
       "4  [42 m² construidos, 40 m² útiles, Sin habitaci...          [Zonas verdes]  "
      ]
     },
     "execution_count": 7,
     "metadata": {},
     "output_type": "execute_result"
    }
   ],
   "source": [
    "df.head()"
   ]
  },
  {
   "cell_type": "code",
   "execution_count": 8,
   "id": "93802176",
   "metadata": {},
   "outputs": [
    {
     "data": {
      "text/plain": [
       "['Casa o chalet independiente',\n",
       " '2 plantas',\n",
       " '242 m² construidos, 212 m² útiles',\n",
       " '3 habitaciones',\n",
       " '3 baños',\n",
       " 'Parcela de 1.229 m²',\n",
       " 'Plaza de garaje incluida en el precio',\n",
       " 'Segunda mano/buen estado',\n",
       " 'Armarios empotrados',\n",
       " 'Trastero',\n",
       " 'Construido en 2024',\n",
       " 'Calefacción individual']"
      ]
     },
     "execution_count": 8,
     "metadata": {},
     "output_type": "execute_result"
    }
   ],
   "source": [
    "df['caracteristicas_basicas'][30]"
   ]
  },
  {
   "cell_type": "code",
   "execution_count": 9,
   "id": "11ef0799",
   "metadata": {},
   "outputs": [],
   "source": [
    "def match_property(property, patterns):\n",
    "    for pat in patterns:\n",
    "        match_prop= re.search(pat, property)\n",
    "        if match_prop:\n",
    "            return True\n",
    "    return False"
   ]
  },
  {
   "cell_type": "code",
   "execution_count": 10,
   "id": "a09d73d1",
   "metadata": {},
   "outputs": [
    {
     "data": {
      "text/plain": [
       "True"
      ]
     },
     "execution_count": 10,
     "metadata": {},
     "output_type": "execute_result"
    }
   ],
   "source": [
    "match_property('con trastero', ['con'])"
   ]
  },
  {
   "cell_type": "code",
   "execution_count": 11,
   "id": "a8eb672b",
   "metadata": {},
   "outputs": [],
   "source": [
    "def check_property(property, patterns):\n",
    "    for pat in patterns:\n",
    "        check= re.search(pat, property)\n",
    "        if check:\n",
    "            return 1\n",
    "    return 0"
   ]
  },
  {
   "cell_type": "code",
   "execution_count": 12,
   "id": "2e2ed6b1",
   "metadata": {},
   "outputs": [
    {
     "data": {
      "text/plain": [
       "1"
      ]
     },
     "execution_count": 12,
     "metadata": {},
     "output_type": "execute_result"
    }
   ],
   "source": [
    "check_property('con trastero', ['con'])"
   ]
  },
  {
   "cell_type": "code",
   "execution_count": 13,
   "id": "89d59f55",
   "metadata": {},
   "outputs": [],
   "source": [
    "# ----------------------\n",
    "# CODIGO ORIGINAL      |\n",
    "# ----------------------\n",
    "# def get_number(property):\n",
    "#     nums= re.findall(r'\\d+', property)\n",
    "#     if len(nums) == 2:\n",
    "#         return int(nums[0]+nums[1])  # '40.000'-> '40' + '000' -> '4000' ->4000\n",
    "#     else:\n",
    "#         return int(nums[0])"
   ]
  },
  {
   "cell_type": "code",
   "execution_count": 14,
   "id": "940a601a",
   "metadata": {},
   "outputs": [],
   "source": [
    "def get_number(property):\n",
    "    nums = re.findall(r'\\d+', property)\n",
    "    if nums:\n",
    "        if len(nums) > 1:\n",
    "            return int(nums[0]+nums[1])  \n",
    "        else:\n",
    "            return int(nums[0])  \n",
    "    return None"
   ]
  },
  {
   "cell_type": "code",
   "execution_count": 15,
   "id": "9bfc2e45",
   "metadata": {},
   "outputs": [
    {
     "data": {
      "text/plain": [
       "['2']"
      ]
     },
     "execution_count": 15,
     "metadata": {},
     "output_type": "execute_result"
    }
   ],
   "source": [
    "re.findall(r'\\d+', '2 baños')"
   ]
  },
  {
   "cell_type": "code",
   "execution_count": 16,
   "id": "0fa588f1",
   "metadata": {},
   "outputs": [
    {
     "data": {
      "text/plain": [
       "2"
      ]
     },
     "execution_count": 16,
     "metadata": {},
     "output_type": "execute_result"
    }
   ],
   "source": [
    "get_number('2 baños')"
   ]
  },
  {
   "cell_type": "code",
   "execution_count": 17,
   "id": "5d100ddb",
   "metadata": {},
   "outputs": [
    {
     "data": {
      "text/plain": [
       "['60 m² construidos, 55 m² útiles',\n",
       " '2 habitaciones',\n",
       " '1 baño',\n",
       " 'Terraza',\n",
       " 'Segunda mano/buen estado',\n",
       " 'Orientación sur, este',\n",
       " 'Construido en 1974',\n",
       " 'Calefacción individual: Eléctrica',\n",
       " 'Planta 2ª exterior',\n",
       " 'Sin ascensor']"
      ]
     },
     "execution_count": 17,
     "metadata": {},
     "output_type": "execute_result"
    }
   ],
   "source": [
    "df['caracteristicas_basicas'][29]"
   ]
  },
  {
   "cell_type": "code",
   "execution_count": 18,
   "id": "13c5208a",
   "metadata": {},
   "outputs": [],
   "source": [
    "def get_ascensor(features):\n",
    "    for prop in features:\n",
    "        if match_property(prop.lower().strip(), ['ascensor']):\n",
    "            return(check_property(prop.lower().strip(), ['con']))"
   ]
  },
  {
   "cell_type": "code",
   "execution_count": 19,
   "id": "8d804b9e",
   "metadata": {},
   "outputs": [
    {
     "data": {
      "text/plain": [
       "True"
      ]
     },
     "execution_count": 19,
     "metadata": {},
     "output_type": "execute_result"
    }
   ],
   "source": [
    "match_property('con ascensor'.lower().strip(), ['ascensor'])"
   ]
  },
  {
   "cell_type": "code",
   "execution_count": 20,
   "id": "9b4c5858",
   "metadata": {},
   "outputs": [
    {
     "data": {
      "text/plain": [
       "1"
      ]
     },
     "execution_count": 20,
     "metadata": {},
     "output_type": "execute_result"
    }
   ],
   "source": [
    "check_property('con ascensor'.lower().strip(), ['ascensor'])"
   ]
  },
  {
   "cell_type": "code",
   "execution_count": 21,
   "id": "583f491d",
   "metadata": {},
   "outputs": [
    {
     "data": {
      "text/plain": [
       "1"
      ]
     },
     "execution_count": 21,
     "metadata": {},
     "output_type": "execute_result"
    }
   ],
   "source": [
    "get_ascensor(['con ascensor'])"
   ]
  },
  {
   "cell_type": "code",
   "execution_count": 22,
   "id": "f301a6ef",
   "metadata": {},
   "outputs": [
    {
     "data": {
      "text/plain": [
       "0"
      ]
     },
     "execution_count": 22,
     "metadata": {},
     "output_type": "execute_result"
    }
   ],
   "source": [
    "get_ascensor(['sin ascensor'])"
   ]
  },
  {
   "cell_type": "code",
   "execution_count": 23,
   "id": "f40b50ab",
   "metadata": {},
   "outputs": [],
   "source": [
    "# -----------------\n",
    "# Código Original\n",
    "# ----------------\n",
    "# def get_baños(features):\n",
    "#     for prop in features:\n",
    "#         if match_property(prop.lower().strip(), ['baño']):\n",
    "#             return (get_number(prop.lower().strip()))"
   ]
  },
  {
   "cell_type": "code",
   "execution_count": 24,
   "id": "5a97f766",
   "metadata": {},
   "outputs": [],
   "source": [
    "def get_baños(features):\n",
    "    for prop in features:\n",
    "        if match_property(prop.lower().strip(), ['baño']):\n",
    "            number = get_number(prop.lower().strip())\n",
    "            if number is not None:  # Check if number is extracted successfully\n",
    "                return number\n",
    "    return None  # Return None if 'baño' is not found or number extraction fails"
   ]
  },
  {
   "cell_type": "code",
   "execution_count": 25,
   "id": "b21d3ff9",
   "metadata": {},
   "outputs": [
    {
     "data": {
      "text/plain": [
       "1"
      ]
     },
     "execution_count": 25,
     "metadata": {},
     "output_type": "execute_result"
    }
   ],
   "source": [
    "get_baños(['1 baño'])"
   ]
  },
  {
   "cell_type": "code",
   "execution_count": 26,
   "id": "e802a9d5",
   "metadata": {},
   "outputs": [
    {
     "data": {
      "text/plain": [
       "['Casa o chalet independiente',\n",
       " '2 plantas',\n",
       " '242 m² construidos, 212 m² útiles',\n",
       " '3 habitaciones',\n",
       " '3 baños',\n",
       " 'Parcela de 1.229 m²',\n",
       " 'Plaza de garaje incluida en el precio',\n",
       " 'Segunda mano/buen estado',\n",
       " 'Armarios empotrados',\n",
       " 'Trastero',\n",
       " 'Construido en 2024',\n",
       " 'Calefacción individual']"
      ]
     },
     "execution_count": 26,
     "metadata": {},
     "output_type": "execute_result"
    }
   ],
   "source": [
    "df['caracteristicas_basicas'][30]"
   ]
  },
  {
   "cell_type": "code",
   "execution_count": 27,
   "id": "88358565",
   "metadata": {},
   "outputs": [],
   "source": [
    "def get_año(features):\n",
    "    for prop in features:\n",
    "        if match_property(prop.lower().strip(), ['construido en']):\n",
    "            return (get_number(prop.lower().strip()))"
   ]
  },
  {
   "cell_type": "code",
   "execution_count": 28,
   "id": "fd38ab6d",
   "metadata": {},
   "outputs": [
    {
     "data": {
      "text/plain": [
       "2024"
      ]
     },
     "execution_count": 28,
     "metadata": {},
     "output_type": "execute_result"
    }
   ],
   "source": [
    "get_año(['construido en 2024'])"
   ]
  },
  {
   "cell_type": "code",
   "execution_count": 29,
   "id": "feb7239f",
   "metadata": {},
   "outputs": [
    {
     "data": {
      "text/plain": [
       "['Chalet adosado',\n",
       " '2 plantas',\n",
       " '130 m² construidos, 114 m² útiles',\n",
       " '3 habitaciones',\n",
       " '2 baños',\n",
       " 'Parcela de 90 m²',\n",
       " 'Balcón',\n",
       " 'Segunda mano/buen estado',\n",
       " 'Armarios empotrados',\n",
       " 'Trastero',\n",
       " 'Orientación norte, sur, este, oeste',\n",
       " 'Construido en 1994',\n",
       " 'Calefacción individual: Eléctrica']"
      ]
     },
     "execution_count": 29,
     "metadata": {},
     "output_type": "execute_result"
    }
   ],
   "source": [
    "df['caracteristicas_basicas'][28]"
   ]
  },
  {
   "cell_type": "code",
   "execution_count": 30,
   "id": "7a4301a2",
   "metadata": {},
   "outputs": [],
   "source": [
    "def get_trastero(features):\n",
    "    for prop in features:\n",
    "        if match_property(prop.lower().strip(), ['trastero']):\n",
    "            return 1\n",
    "    return 0"
   ]
  },
  {
   "cell_type": "code",
   "execution_count": 31,
   "id": "8b088b2d",
   "metadata": {},
   "outputs": [],
   "source": [
    "def get_orientacion(features):\n",
    "    for prop in features:\n",
    "        if match_property(prop.lower().strip(), ['orientación']):\n",
    "            return (prop.split(' ', maxsplit=1)[1].strip().split(', ')[0])"
   ]
  },
  {
   "cell_type": "code",
   "execution_count": 32,
   "id": "44612595",
   "metadata": {},
   "outputs": [
    {
     "data": {
      "text/plain": [
       "['60 m² construidos, 55 m² útiles',\n",
       " '2 habitaciones',\n",
       " '1 baño',\n",
       " 'Terraza',\n",
       " 'Segunda mano/buen estado',\n",
       " 'Orientación sur, este',\n",
       " 'Construido en 1974',\n",
       " 'Calefacción individual: Eléctrica',\n",
       " 'Planta 2ª exterior',\n",
       " 'Sin ascensor']"
      ]
     },
     "execution_count": 32,
     "metadata": {},
     "output_type": "execute_result"
    }
   ],
   "source": [
    "df['caracteristicas_basicas'][29]"
   ]
  },
  {
   "cell_type": "code",
   "execution_count": 33,
   "id": "11a0676e",
   "metadata": {},
   "outputs": [],
   "source": [
    "def get_piso(features):\n",
    "    for prop in features:\n",
    "        if match_property(prop.lower().strip(), ['bajo', 'planta', 'interior', 'exterior']):\n",
    "            return(prop)"
   ]
  },
  {
   "cell_type": "code",
   "execution_count": 34,
   "id": "dff13d4e",
   "metadata": {},
   "outputs": [
    {
     "data": {
      "text/plain": [
       "['Casa o chalet independiente',\n",
       " '2 plantas',\n",
       " '242 m² construidos, 212 m² útiles',\n",
       " '3 habitaciones',\n",
       " '3 baños',\n",
       " 'Parcela de 1.229 m²',\n",
       " 'Plaza de garaje incluida en el precio',\n",
       " 'Segunda mano/buen estado',\n",
       " 'Armarios empotrados',\n",
       " 'Trastero',\n",
       " 'Construido en 2024',\n",
       " 'Calefacción individual']"
      ]
     },
     "execution_count": 34,
     "metadata": {},
     "output_type": "execute_result"
    }
   ],
   "source": [
    "df['caracteristicas_basicas'][30]"
   ]
  },
  {
   "cell_type": "code",
   "execution_count": 35,
   "id": "d819e581",
   "metadata": {},
   "outputs": [],
   "source": [
    "def get_habitaciones(features):\n",
    "    for prop in features:\n",
    "        if match_property(prop.lower().strip(), ['habitaci']):\n",
    "            try:\n",
    "                habitaciones= get_number(prop.lower().strip())\n",
    "            except:\n",
    "                habitaciones= prop\n",
    "            return(habitaciones)"
   ]
  },
  {
   "cell_type": "code",
   "execution_count": 36,
   "id": "db8fe3bd",
   "metadata": {},
   "outputs": [
    {
     "data": {
      "text/plain": [
       "['Casa o chalet independiente',\n",
       " '2 plantas',\n",
       " '242 m² construidos, 212 m² útiles',\n",
       " '3 habitaciones',\n",
       " '3 baños',\n",
       " 'Parcela de 1.229 m²',\n",
       " 'Plaza de garaje incluida en el precio',\n",
       " 'Segunda mano/buen estado',\n",
       " 'Armarios empotrados',\n",
       " 'Trastero',\n",
       " 'Construido en 2024',\n",
       " 'Calefacción individual']"
      ]
     },
     "execution_count": 36,
     "metadata": {},
     "output_type": "execute_result"
    }
   ],
   "source": [
    "df['caracteristicas_basicas'][30]"
   ]
  },
  {
   "cell_type": "code",
   "execution_count": 37,
   "id": "2d04858b",
   "metadata": {},
   "outputs": [],
   "source": [
    "# --------------------------\n",
    "# Original Code\n",
    "# --------------------------\n",
    "# def get_metros_reales(features):\n",
    "#     for prop in features:\n",
    "#         if match_property(prop.lower().strip(), ['m²']):\n",
    "#             try:\n",
    "#                 metros= get_number(prop.lower().strip().split(',')[1])\n",
    "#             except:\n",
    "#                 metros= prop\n",
    "#             return(metros)"
   ]
  },
  {
   "cell_type": "code",
   "execution_count": 38,
   "id": "f7db063c",
   "metadata": {},
   "outputs": [],
   "source": [
    "def get_metros(features):\n",
    "    for prop in features:\n",
    "        prop = prop.lower().strip()\n",
    "        if 'm²' in prop:\n",
    "            try:\n",
    "                # Extract the numbers from the string\n",
    "                numbers = re.findall(r'\\d+', prop)\n",
    "                if len(numbers) == 2:\n",
    "                    # If there are two numbers, take the second one (m² útiles)\n",
    "                    metros = int(numbers[1])\n",
    "                else:\n",
    "                    # Otherwise, take the first one (m² construidos)\n",
    "                    metros = int(numbers[0])\n",
    "            except:\n",
    "                # Return the original string if parsing fails\n",
    "                metros = prop\n",
    "            return metros"
   ]
  },
  {
   "cell_type": "code",
   "execution_count": 39,
   "id": "10dbf814",
   "metadata": {},
   "outputs": [
    {
     "data": {
      "text/plain": [
       "212"
      ]
     },
     "execution_count": 39,
     "metadata": {},
     "output_type": "execute_result"
    }
   ],
   "source": [
    "get_metros(['242 m² construidos, 212 m² útiles'])"
   ]
  },
  {
   "cell_type": "code",
   "execution_count": 40,
   "id": "bf6ca252",
   "metadata": {},
   "outputs": [
    {
     "data": {
      "text/plain": [
       "['Chalet adosado',\n",
       " '5 plantas',\n",
       " '426 m² construidos',\n",
       " '8 habitaciones',\n",
       " '2 baños',\n",
       " 'Terraza y balcón',\n",
       " 'Plaza de garaje incluida en el precio',\n",
       " 'Segunda mano/para reformar',\n",
       " 'Trastero',\n",
       " 'Orientación norte, sur',\n",
       " 'Calefacción individual: Eléctrica']"
      ]
     },
     "execution_count": 40,
     "metadata": {},
     "output_type": "execute_result"
    }
   ],
   "source": [
    "df['caracteristicas_basicas'][32]"
   ]
  },
  {
   "cell_type": "code",
   "execution_count": 41,
   "id": "dfe7c14d",
   "metadata": {},
   "outputs": [],
   "source": [
    "def get_segunda_mano(features):\n",
    "    for prop in features:\n",
    "        if match_property(prop.lower().strip(), ['segunda mano']):\n",
    "            return 1\n",
    "    return 0"
   ]
  },
  {
   "cell_type": "code",
   "execution_count": 42,
   "id": "fc08b221",
   "metadata": {},
   "outputs": [
    {
     "data": {
      "text/plain": [
       "1"
      ]
     },
     "execution_count": 42,
     "metadata": {},
     "output_type": "execute_result"
    }
   ],
   "source": [
    "get_segunda_mano(['Segunda mano/buen estado'])"
   ]
  },
  {
   "cell_type": "code",
   "execution_count": 43,
   "id": "e5969b69",
   "metadata": {},
   "outputs": [],
   "source": [
    "def get_obra_nueva(features):\n",
    "    for prop in features:\n",
    "        if match_property(prop.lower().strip(), ['obra nueva']):\n",
    "            return 1\n",
    "    return 0"
   ]
  },
  {
   "cell_type": "code",
   "execution_count": 44,
   "id": "d128c1e1",
   "metadata": {},
   "outputs": [
    {
     "data": {
      "text/plain": [
       "0"
      ]
     },
     "execution_count": 44,
     "metadata": {},
     "output_type": "execute_result"
    }
   ],
   "source": [
    "get_obra_nueva(['Segunda mano/buen estado'])"
   ]
  },
  {
   "cell_type": "code",
   "execution_count": 45,
   "id": "0c1a0de1",
   "metadata": {},
   "outputs": [],
   "source": [
    "def get_armario_empotrado(features):\n",
    "    for prop in features:\n",
    "        if match_property(prop.lower().strip(), ['armarios empotrados']):\n",
    "            return 1\n",
    "    return 0"
   ]
  },
  {
   "cell_type": "code",
   "execution_count": 46,
   "id": "e33e4346",
   "metadata": {},
   "outputs": [
    {
     "data": {
      "text/plain": [
       "1"
      ]
     },
     "execution_count": 46,
     "metadata": {},
     "output_type": "execute_result"
    }
   ],
   "source": [
    "get_armario_empotrado(['armarios empotrados'])"
   ]
  },
  {
   "cell_type": "code",
   "execution_count": 47,
   "id": "ef3cee89",
   "metadata": {},
   "outputs": [],
   "source": [
    "def get_terraza(features):\n",
    "    for prop in features:\n",
    "        if match_property(prop.lower().strip(), ['terraza']):\n",
    "            return 1\n",
    "    return 0"
   ]
  },
  {
   "cell_type": "code",
   "execution_count": 48,
   "id": "e1921eb8",
   "metadata": {},
   "outputs": [
    {
     "data": {
      "text/plain": [
       "1"
      ]
     },
     "execution_count": 48,
     "metadata": {},
     "output_type": "execute_result"
    }
   ],
   "source": [
    "get_terraza(['terraza y balcon'])"
   ]
  },
  {
   "cell_type": "code",
   "execution_count": 49,
   "id": "f9ee4d44",
   "metadata": {},
   "outputs": [],
   "source": [
    "def get_balcon(features):\n",
    "    for prop in features:\n",
    "        if match_property(prop.lower().strip(), ['balcón']):\n",
    "            return 1\n",
    "    return 0"
   ]
  },
  {
   "cell_type": "code",
   "execution_count": 50,
   "id": "998701b2",
   "metadata": {},
   "outputs": [
    {
     "data": {
      "text/plain": [
       "['Casa o chalet independiente',\n",
       " '2 plantas',\n",
       " '242 m² construidos, 212 m² útiles',\n",
       " '3 habitaciones',\n",
       " '3 baños',\n",
       " 'Parcela de 1.229 m²',\n",
       " 'Plaza de garaje incluida en el precio',\n",
       " 'Segunda mano/buen estado',\n",
       " 'Armarios empotrados',\n",
       " 'Trastero',\n",
       " 'Construido en 2024',\n",
       " 'Calefacción individual']"
      ]
     },
     "execution_count": 50,
     "metadata": {},
     "output_type": "execute_result"
    }
   ],
   "source": [
    "df['caracteristicas_basicas'][30]"
   ]
  },
  {
   "cell_type": "code",
   "execution_count": 51,
   "id": "64228d54",
   "metadata": {},
   "outputs": [],
   "source": [
    "def get_jardin(features):\n",
    "    for prop in features:\n",
    "        if match_property(prop.lower().strip(), ['jardín']):\n",
    "            return 1\n",
    "    return 0"
   ]
  },
  {
   "cell_type": "code",
   "execution_count": 52,
   "id": "fad1312b",
   "metadata": {},
   "outputs": [],
   "source": [
    "def get_garaje(features):\n",
    "    for prop in features:\n",
    "        if match_property(prop.lower().strip(), ['garaje']):\n",
    "            return 1\n",
    "    return 0"
   ]
  },
  {
   "cell_type": "code",
   "execution_count": 53,
   "id": "5c493531",
   "metadata": {},
   "outputs": [
    {
     "data": {
      "text/plain": [
       "1"
      ]
     },
     "execution_count": 53,
     "metadata": {},
     "output_type": "execute_result"
    }
   ],
   "source": [
    "get_garaje(['Plaza de garaje incluida en el precio'])"
   ]
  },
  {
   "cell_type": "code",
   "execution_count": 54,
   "id": "dde77e36",
   "metadata": {},
   "outputs": [],
   "source": [
    "def get_calefaccion(features):\n",
    "    for prop in features:\n",
    "        if match_property(prop.lower().strip(), ['calefacción']):\n",
    "            return 1\n",
    "    return 0"
   ]
  },
  {
   "cell_type": "code",
   "execution_count": 55,
   "id": "68a5bc19",
   "metadata": {},
   "outputs": [],
   "source": [
    "def get_aire_acon(features):\n",
    "    for prop in features:\n",
    "        if match_property(prop.lower().strip(), ['aire acondicionado']):\n",
    "            return 1\n",
    "    return 0"
   ]
  },
  {
   "cell_type": "code",
   "execution_count": 56,
   "id": "18214951",
   "metadata": {},
   "outputs": [],
   "source": [
    "def get_parcela(features):\n",
    "    for prop in features:\n",
    "        if match_property(prop.lower().strip(), ['parcela']):\n",
    "            try:\n",
    "                parcela= get_number(prop.lower().strip())\n",
    "            except:\n",
    "                parcela= prop\n",
    "            return(parcela)"
   ]
  },
  {
   "cell_type": "code",
   "execution_count": 57,
   "id": "5a3f697c",
   "metadata": {},
   "outputs": [
    {
     "data": {
      "text/plain": [
       "1229"
      ]
     },
     "execution_count": 57,
     "metadata": {},
     "output_type": "execute_result"
    }
   ],
   "source": [
    "get_parcela(['Parcela de 1.229 m²'])"
   ]
  },
  {
   "cell_type": "code",
   "execution_count": 58,
   "id": "bb22e02f",
   "metadata": {},
   "outputs": [],
   "source": [
    "df['ascensor'] = df.caracteristicas_basicas.apply(get_ascensor)\n",
    "df['baño'] = df.caracteristicas_basicas.apply(get_baños)\n",
    "df['año'] = df.caracteristicas_basicas.apply(get_año)\n",
    "df['trastero'] = df.caracteristicas_basicas.apply(get_trastero)\n",
    "df['orientacion'] = df.caracteristicas_basicas.apply(get_orientacion)\n",
    "df['piso'] = df.caracteristicas_basicas.apply(get_piso)\n",
    "df['habitaciones'] = df.caracteristicas_basicas.apply(get_habitaciones)\n",
    "df['metros'] = df.caracteristicas_basicas.apply(get_metros)\n",
    "df['segunda_mano'] = df.caracteristicas_basicas.apply(get_segunda_mano)\n",
    "df['obra_nueva'] = df.caracteristicas_basicas.apply(get_obra_nueva)\n",
    "df['armarios_empotrados'] = df.caracteristicas_basicas.apply(get_armario_empotrado)\n",
    "df['terraza'] = df.caracteristicas_basicas.apply(get_terraza)\n",
    "df['balcon'] = df.caracteristicas_basicas.apply(get_balcon)\n",
    "df['jardin'] = df.caracteristicas_basicas.apply(get_jardin)\n",
    "df['garaje'] = df.caracteristicas_basicas.apply(get_garaje)\n",
    "df['calefaccion'] = df.caracteristicas_basicas.apply(get_calefaccion)\n",
    "df['parcela'] = df.caracteristicas_basicas.apply(get_parcela)\n",
    "df['aire_acondicionado'] = df.caracteristicas_extras.apply(get_aire_acon)"
   ]
  },
  {
   "cell_type": "code",
   "execution_count": 59,
   "id": "1fab841b",
   "metadata": {},
   "outputs": [
    {
     "data": {
      "text/html": [
       "<div>\n",
       "<style scoped>\n",
       "    .dataframe tbody tr th:only-of-type {\n",
       "        vertical-align: middle;\n",
       "    }\n",
       "\n",
       "    .dataframe tbody tr th {\n",
       "        vertical-align: top;\n",
       "    }\n",
       "\n",
       "    .dataframe thead th {\n",
       "        text-align: right;\n",
       "    }\n",
       "</style>\n",
       "<table border=\"1\" class=\"dataframe\">\n",
       "  <thead>\n",
       "    <tr style=\"text-align: right;\">\n",
       "      <th></th>\n",
       "      <th>titulo</th>\n",
       "      <th>precio</th>\n",
       "      <th>ubicacion</th>\n",
       "      <th>direccion</th>\n",
       "      <th>caracteristicas_basicas</th>\n",
       "      <th>caracteristicas_extras</th>\n",
       "      <th>ascensor</th>\n",
       "      <th>baño</th>\n",
       "      <th>año</th>\n",
       "      <th>trastero</th>\n",
       "      <th>...</th>\n",
       "      <th>segunda_mano</th>\n",
       "      <th>obra_nueva</th>\n",
       "      <th>armarios_empotrados</th>\n",
       "      <th>terraza</th>\n",
       "      <th>balcon</th>\n",
       "      <th>jardin</th>\n",
       "      <th>garaje</th>\n",
       "      <th>calefaccion</th>\n",
       "      <th>parcela</th>\n",
       "      <th>aire_acondicionado</th>\n",
       "    </tr>\n",
       "  </thead>\n",
       "  <tbody>\n",
       "    <tr>\n",
       "      <th>0</th>\n",
       "      <td>Casa o chalet independiente en venta en San Ma...</td>\n",
       "      <td>1290000</td>\n",
       "      <td>Zona suroeste</td>\n",
       "      <td>['San Martín de Valdeiglesias', 'Zona suroeste...</td>\n",
       "      <td>[Casa o chalet independiente, 2 plantas, 435 m...</td>\n",
       "      <td>[Piscina, Jardín]</td>\n",
       "      <td>NaN</td>\n",
       "      <td>5.0</td>\n",
       "      <td>NaN</td>\n",
       "      <td>0</td>\n",
       "      <td>...</td>\n",
       "      <td>1</td>\n",
       "      <td>0</td>\n",
       "      <td>0</td>\n",
       "      <td>0</td>\n",
       "      <td>0</td>\n",
       "      <td>0</td>\n",
       "      <td>1</td>\n",
       "      <td>1</td>\n",
       "      <td>1250.0</td>\n",
       "      <td>0</td>\n",
       "    </tr>\n",
       "    <tr>\n",
       "      <th>1</th>\n",
       "      <td>Casa o chalet independiente en venta en San Ma...</td>\n",
       "      <td>1290000</td>\n",
       "      <td>Zona suroeste</td>\n",
       "      <td>['San Martín de Valdeiglesias', 'Zona suroeste...</td>\n",
       "      <td>[Casa o chalet independiente, 2 plantas, 435 m...</td>\n",
       "      <td>[Piscina, Jardín]</td>\n",
       "      <td>NaN</td>\n",
       "      <td>5.0</td>\n",
       "      <td>NaN</td>\n",
       "      <td>0</td>\n",
       "      <td>...</td>\n",
       "      <td>1</td>\n",
       "      <td>0</td>\n",
       "      <td>0</td>\n",
       "      <td>0</td>\n",
       "      <td>0</td>\n",
       "      <td>0</td>\n",
       "      <td>1</td>\n",
       "      <td>1</td>\n",
       "      <td>1250.0</td>\n",
       "      <td>0</td>\n",
       "    </tr>\n",
       "    <tr>\n",
       "      <th>2</th>\n",
       "      <td>Casa o chalet independiente en venta en San Ma...</td>\n",
       "      <td>395000</td>\n",
       "      <td>Zona suroeste</td>\n",
       "      <td>['San Martín de Valdeiglesias', 'Zona suroeste...</td>\n",
       "      <td>[Casa o chalet independiente, 1 planta, 175 m²...</td>\n",
       "      <td>[Piscina, Jardín]</td>\n",
       "      <td>NaN</td>\n",
       "      <td>2.0</td>\n",
       "      <td>2004.0</td>\n",
       "      <td>1</td>\n",
       "      <td>...</td>\n",
       "      <td>1</td>\n",
       "      <td>0</td>\n",
       "      <td>1</td>\n",
       "      <td>1</td>\n",
       "      <td>0</td>\n",
       "      <td>0</td>\n",
       "      <td>1</td>\n",
       "      <td>1</td>\n",
       "      <td>1463.0</td>\n",
       "      <td>0</td>\n",
       "    </tr>\n",
       "    <tr>\n",
       "      <th>3</th>\n",
       "      <td>Casa o chalet independiente en venta en calle ...</td>\n",
       "      <td>670000</td>\n",
       "      <td>San Martín de Valdeiglesias</td>\n",
       "      <td>['Calle Guadalupe', 'San Martín de Valdeiglesi...</td>\n",
       "      <td>[Casa o chalet independiente, 3 plantas, 180 m...</td>\n",
       "      <td>[Consumo:, Emisiones:]</td>\n",
       "      <td>NaN</td>\n",
       "      <td>3.0</td>\n",
       "      <td>NaN</td>\n",
       "      <td>0</td>\n",
       "      <td>...</td>\n",
       "      <td>1</td>\n",
       "      <td>0</td>\n",
       "      <td>0</td>\n",
       "      <td>1</td>\n",
       "      <td>1</td>\n",
       "      <td>0</td>\n",
       "      <td>1</td>\n",
       "      <td>0</td>\n",
       "      <td>2057.0</td>\n",
       "      <td>0</td>\n",
       "    </tr>\n",
       "    <tr>\n",
       "      <th>4</th>\n",
       "      <td>Estudio en venta en carretera Virgen de la Nue...</td>\n",
       "      <td>46000</td>\n",
       "      <td>San Martín de Valdeiglesias</td>\n",
       "      <td>['Carretera Virgen de la Nueva s/n', 'Urb. COS...</td>\n",
       "      <td>[42 m² construidos, 40 m² útiles, Sin habitaci...</td>\n",
       "      <td>[Zonas verdes]</td>\n",
       "      <td>0.0</td>\n",
       "      <td>1.0</td>\n",
       "      <td>1986.0</td>\n",
       "      <td>0</td>\n",
       "      <td>...</td>\n",
       "      <td>1</td>\n",
       "      <td>0</td>\n",
       "      <td>1</td>\n",
       "      <td>1</td>\n",
       "      <td>0</td>\n",
       "      <td>0</td>\n",
       "      <td>0</td>\n",
       "      <td>1</td>\n",
       "      <td>NaN</td>\n",
       "      <td>0</td>\n",
       "    </tr>\n",
       "  </tbody>\n",
       "</table>\n",
       "<p>5 rows × 24 columns</p>\n",
       "</div>"
      ],
      "text/plain": [
       "                                              titulo   precio  \\\n",
       "0  Casa o chalet independiente en venta en San Ma...  1290000   \n",
       "1  Casa o chalet independiente en venta en San Ma...  1290000   \n",
       "2  Casa o chalet independiente en venta en San Ma...   395000   \n",
       "3  Casa o chalet independiente en venta en calle ...   670000   \n",
       "4  Estudio en venta en carretera Virgen de la Nue...    46000   \n",
       "\n",
       "                     ubicacion  \\\n",
       "0                Zona suroeste   \n",
       "1                Zona suroeste   \n",
       "2                Zona suroeste   \n",
       "3  San Martín de Valdeiglesias   \n",
       "4  San Martín de Valdeiglesias   \n",
       "\n",
       "                                           direccion  \\\n",
       "0  ['San Martín de Valdeiglesias', 'Zona suroeste...   \n",
       "1  ['San Martín de Valdeiglesias', 'Zona suroeste...   \n",
       "2  ['San Martín de Valdeiglesias', 'Zona suroeste...   \n",
       "3  ['Calle Guadalupe', 'San Martín de Valdeiglesi...   \n",
       "4  ['Carretera Virgen de la Nueva s/n', 'Urb. COS...   \n",
       "\n",
       "                             caracteristicas_basicas  caracteristicas_extras  \\\n",
       "0  [Casa o chalet independiente, 2 plantas, 435 m...       [Piscina, Jardín]   \n",
       "1  [Casa o chalet independiente, 2 plantas, 435 m...       [Piscina, Jardín]   \n",
       "2  [Casa o chalet independiente, 1 planta, 175 m²...       [Piscina, Jardín]   \n",
       "3  [Casa o chalet independiente, 3 plantas, 180 m...  [Consumo:, Emisiones:]   \n",
       "4  [42 m² construidos, 40 m² útiles, Sin habitaci...          [Zonas verdes]   \n",
       "\n",
       "   ascensor  baño     año  trastero  ... segunda_mano obra_nueva  \\\n",
       "0       NaN   5.0     NaN         0  ...            1          0   \n",
       "1       NaN   5.0     NaN         0  ...            1          0   \n",
       "2       NaN   2.0  2004.0         1  ...            1          0   \n",
       "3       NaN   3.0     NaN         0  ...            1          0   \n",
       "4       0.0   1.0  1986.0         0  ...            1          0   \n",
       "\n",
       "   armarios_empotrados  terraza  balcon  jardin  garaje  calefaccion  parcela  \\\n",
       "0                    0        0       0       0       1            1   1250.0   \n",
       "1                    0        0       0       0       1            1   1250.0   \n",
       "2                    1        1       0       0       1            1   1463.0   \n",
       "3                    0        1       1       0       1            0   2057.0   \n",
       "4                    1        1       0       0       0            1      NaN   \n",
       "\n",
       "   aire_acondicionado  \n",
       "0                   0  \n",
       "1                   0  \n",
       "2                   0  \n",
       "3                   0  \n",
       "4                   0  \n",
       "\n",
       "[5 rows x 24 columns]"
      ]
     },
     "execution_count": 59,
     "metadata": {},
     "output_type": "execute_result"
    }
   ],
   "source": [
    "df.head()"
   ]
  },
  {
   "cell_type": "code",
   "execution_count": 60,
   "id": "d6f80415",
   "metadata": {},
   "outputs": [],
   "source": [
    "df.drop(columns= ['caracteristicas_basicas', 'caracteristicas_extras'], inplace= True)"
   ]
  },
  {
   "cell_type": "code",
   "execution_count": 61,
   "id": "0245da9b",
   "metadata": {},
   "outputs": [
    {
     "data": {
      "text/html": [
       "<div>\n",
       "<style scoped>\n",
       "    .dataframe tbody tr th:only-of-type {\n",
       "        vertical-align: middle;\n",
       "    }\n",
       "\n",
       "    .dataframe tbody tr th {\n",
       "        vertical-align: top;\n",
       "    }\n",
       "\n",
       "    .dataframe thead th {\n",
       "        text-align: right;\n",
       "    }\n",
       "</style>\n",
       "<table border=\"1\" class=\"dataframe\">\n",
       "  <thead>\n",
       "    <tr style=\"text-align: right;\">\n",
       "      <th></th>\n",
       "      <th>titulo</th>\n",
       "      <th>precio</th>\n",
       "      <th>ubicacion</th>\n",
       "      <th>direccion</th>\n",
       "      <th>ascensor</th>\n",
       "      <th>baño</th>\n",
       "      <th>año</th>\n",
       "      <th>trastero</th>\n",
       "      <th>orientacion</th>\n",
       "      <th>piso</th>\n",
       "      <th>...</th>\n",
       "      <th>segunda_mano</th>\n",
       "      <th>obra_nueva</th>\n",
       "      <th>armarios_empotrados</th>\n",
       "      <th>terraza</th>\n",
       "      <th>balcon</th>\n",
       "      <th>jardin</th>\n",
       "      <th>garaje</th>\n",
       "      <th>calefaccion</th>\n",
       "      <th>parcela</th>\n",
       "      <th>aire_acondicionado</th>\n",
       "    </tr>\n",
       "  </thead>\n",
       "  <tbody>\n",
       "    <tr>\n",
       "      <th>0</th>\n",
       "      <td>Casa o chalet independiente en venta en San Ma...</td>\n",
       "      <td>1290000</td>\n",
       "      <td>Zona suroeste</td>\n",
       "      <td>['San Martín de Valdeiglesias', 'Zona suroeste...</td>\n",
       "      <td>NaN</td>\n",
       "      <td>5.0</td>\n",
       "      <td>NaN</td>\n",
       "      <td>0</td>\n",
       "      <td>None</td>\n",
       "      <td>2 plantas</td>\n",
       "      <td>...</td>\n",
       "      <td>1</td>\n",
       "      <td>0</td>\n",
       "      <td>0</td>\n",
       "      <td>0</td>\n",
       "      <td>0</td>\n",
       "      <td>0</td>\n",
       "      <td>1</td>\n",
       "      <td>1</td>\n",
       "      <td>1250.0</td>\n",
       "      <td>0</td>\n",
       "    </tr>\n",
       "    <tr>\n",
       "      <th>1</th>\n",
       "      <td>Casa o chalet independiente en venta en San Ma...</td>\n",
       "      <td>1290000</td>\n",
       "      <td>Zona suroeste</td>\n",
       "      <td>['San Martín de Valdeiglesias', 'Zona suroeste...</td>\n",
       "      <td>NaN</td>\n",
       "      <td>5.0</td>\n",
       "      <td>NaN</td>\n",
       "      <td>0</td>\n",
       "      <td>None</td>\n",
       "      <td>2 plantas</td>\n",
       "      <td>...</td>\n",
       "      <td>1</td>\n",
       "      <td>0</td>\n",
       "      <td>0</td>\n",
       "      <td>0</td>\n",
       "      <td>0</td>\n",
       "      <td>0</td>\n",
       "      <td>1</td>\n",
       "      <td>1</td>\n",
       "      <td>1250.0</td>\n",
       "      <td>0</td>\n",
       "    </tr>\n",
       "    <tr>\n",
       "      <th>2</th>\n",
       "      <td>Casa o chalet independiente en venta en San Ma...</td>\n",
       "      <td>395000</td>\n",
       "      <td>Zona suroeste</td>\n",
       "      <td>['San Martín de Valdeiglesias', 'Zona suroeste...</td>\n",
       "      <td>NaN</td>\n",
       "      <td>2.0</td>\n",
       "      <td>2004.0</td>\n",
       "      <td>1</td>\n",
       "      <td>sur</td>\n",
       "      <td>1 planta</td>\n",
       "      <td>...</td>\n",
       "      <td>1</td>\n",
       "      <td>0</td>\n",
       "      <td>1</td>\n",
       "      <td>1</td>\n",
       "      <td>0</td>\n",
       "      <td>0</td>\n",
       "      <td>1</td>\n",
       "      <td>1</td>\n",
       "      <td>1463.0</td>\n",
       "      <td>0</td>\n",
       "    </tr>\n",
       "    <tr>\n",
       "      <th>3</th>\n",
       "      <td>Casa o chalet independiente en venta en calle ...</td>\n",
       "      <td>670000</td>\n",
       "      <td>San Martín de Valdeiglesias</td>\n",
       "      <td>['Calle Guadalupe', 'San Martín de Valdeiglesi...</td>\n",
       "      <td>NaN</td>\n",
       "      <td>3.0</td>\n",
       "      <td>NaN</td>\n",
       "      <td>0</td>\n",
       "      <td>norte</td>\n",
       "      <td>3 plantas</td>\n",
       "      <td>...</td>\n",
       "      <td>1</td>\n",
       "      <td>0</td>\n",
       "      <td>0</td>\n",
       "      <td>1</td>\n",
       "      <td>1</td>\n",
       "      <td>0</td>\n",
       "      <td>1</td>\n",
       "      <td>0</td>\n",
       "      <td>2057.0</td>\n",
       "      <td>0</td>\n",
       "    </tr>\n",
       "    <tr>\n",
       "      <th>4</th>\n",
       "      <td>Estudio en venta en carretera Virgen de la Nue...</td>\n",
       "      <td>46000</td>\n",
       "      <td>San Martín de Valdeiglesias</td>\n",
       "      <td>['Carretera Virgen de la Nueva s/n', 'Urb. COS...</td>\n",
       "      <td>0.0</td>\n",
       "      <td>1.0</td>\n",
       "      <td>1986.0</td>\n",
       "      <td>0</td>\n",
       "      <td>norte</td>\n",
       "      <td>Planta 2ª exterior</td>\n",
       "      <td>...</td>\n",
       "      <td>1</td>\n",
       "      <td>0</td>\n",
       "      <td>1</td>\n",
       "      <td>1</td>\n",
       "      <td>0</td>\n",
       "      <td>0</td>\n",
       "      <td>0</td>\n",
       "      <td>1</td>\n",
       "      <td>NaN</td>\n",
       "      <td>0</td>\n",
       "    </tr>\n",
       "  </tbody>\n",
       "</table>\n",
       "<p>5 rows × 22 columns</p>\n",
       "</div>"
      ],
      "text/plain": [
       "                                              titulo   precio  \\\n",
       "0  Casa o chalet independiente en venta en San Ma...  1290000   \n",
       "1  Casa o chalet independiente en venta en San Ma...  1290000   \n",
       "2  Casa o chalet independiente en venta en San Ma...   395000   \n",
       "3  Casa o chalet independiente en venta en calle ...   670000   \n",
       "4  Estudio en venta en carretera Virgen de la Nue...    46000   \n",
       "\n",
       "                     ubicacion  \\\n",
       "0                Zona suroeste   \n",
       "1                Zona suroeste   \n",
       "2                Zona suroeste   \n",
       "3  San Martín de Valdeiglesias   \n",
       "4  San Martín de Valdeiglesias   \n",
       "\n",
       "                                           direccion  ascensor  baño     año  \\\n",
       "0  ['San Martín de Valdeiglesias', 'Zona suroeste...       NaN   5.0     NaN   \n",
       "1  ['San Martín de Valdeiglesias', 'Zona suroeste...       NaN   5.0     NaN   \n",
       "2  ['San Martín de Valdeiglesias', 'Zona suroeste...       NaN   2.0  2004.0   \n",
       "3  ['Calle Guadalupe', 'San Martín de Valdeiglesi...       NaN   3.0     NaN   \n",
       "4  ['Carretera Virgen de la Nueva s/n', 'Urb. COS...       0.0   1.0  1986.0   \n",
       "\n",
       "   trastero orientacion                piso  ...  segunda_mano  obra_nueva  \\\n",
       "0         0        None           2 plantas  ...             1           0   \n",
       "1         0        None           2 plantas  ...             1           0   \n",
       "2         1         sur            1 planta  ...             1           0   \n",
       "3         0       norte           3 plantas  ...             1           0   \n",
       "4         0       norte  Planta 2ª exterior  ...             1           0   \n",
       "\n",
       "   armarios_empotrados  terraza  balcon  jardin  garaje  calefaccion  parcela  \\\n",
       "0                    0        0       0       0       1            1   1250.0   \n",
       "1                    0        0       0       0       1            1   1250.0   \n",
       "2                    1        1       0       0       1            1   1463.0   \n",
       "3                    0        1       1       0       1            0   2057.0   \n",
       "4                    1        1       0       0       0            1      NaN   \n",
       "\n",
       "   aire_acondicionado  \n",
       "0                   0  \n",
       "1                   0  \n",
       "2                   0  \n",
       "3                   0  \n",
       "4                   0  \n",
       "\n",
       "[5 rows x 22 columns]"
      ]
     },
     "execution_count": 61,
     "metadata": {},
     "output_type": "execute_result"
    }
   ],
   "source": [
    "df.head()"
   ]
  },
  {
   "cell_type": "code",
   "execution_count": 62,
   "id": "4304477b",
   "metadata": {},
   "outputs": [],
   "source": [
    "df.to_csv('inmuebles_info_limpia.csv', encoding='utf-16', sep=';')"
   ]
  },
  {
   "cell_type": "code",
   "execution_count": 65,
   "id": "a6501807",
   "metadata": {},
   "outputs": [
    {
     "data": {
      "text/plain": [
       "calefaccion\n",
       "1    84\n",
       "0    42\n",
       "Name: count, dtype: int64"
      ]
     },
     "execution_count": 65,
     "metadata": {},
     "output_type": "execute_result"
    }
   ],
   "source": [
    "df['calefaccion'].value_counts()"
   ]
  },
  {
   "cell_type": "code",
   "execution_count": null,
   "id": "bb8d6caf",
   "metadata": {},
   "outputs": [],
   "source": []
  },
  {
   "cell_type": "code",
   "execution_count": null,
   "id": "d8fc63fc",
   "metadata": {},
   "outputs": [],
   "source": []
  }
 ],
 "metadata": {
  "kernelspec": {
   "display_name": "Python 3 (ipykernel)",
   "language": "python",
   "name": "python3"
  },
  "language_info": {
   "codemirror_mode": {
    "name": "ipython",
    "version": 3
   },
   "file_extension": ".py",
   "mimetype": "text/x-python",
   "name": "python",
   "nbconvert_exporter": "python",
   "pygments_lexer": "ipython3",
   "version": "3.11.5"
  }
 },
 "nbformat": 4,
 "nbformat_minor": 5
}
